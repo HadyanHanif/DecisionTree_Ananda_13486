{
  "nbformat": 4,
  "nbformat_minor": 0,
  "metadata": {
    "colab": {
      "provenance": []
    },
    "kernelspec": {
      "name": "python3",
      "display_name": "Python 3"
    },
    "language_info": {
      "name": "python"
    }
  },
  "cells": [
    {
      "cell_type": "code",
      "execution_count": null,
      "metadata": {
        "colab": {
          "base_uri": "https://localhost:8080/"
        },
        "id": "EHVBrOnX5Xg5",
        "outputId": "cd02351b-114d-4d4f-f1b3-70fbba0367d0"
      },
      "outputs": [
        {
          "output_type": "stream",
          "name": "stdout",
          "text": [
            "Tugas Klasifikasi Dengan Decision Tree\n",
            "Nama  = Ananda Hadyan Hanif\n",
            "NIM   = A11.2021.13486\n",
            "Kelas = A11.4402\n"
          ]
        }
      ],
      "source": [
        "print(\"Tugas Klasifikasi Dengan Decision Tree\")\n",
        "print(\"Nama  = Ananda Hadyan Hanif\")\n",
        "print(\"NIM   = A11.2021.13486\")\n",
        "print(\"Kelas = A11.4402\")"
      ]
    },
    {
      "cell_type": "code",
      "source": [
        "from sklearn.tree import DecisionTreeClassifier\n",
        "from sklearn import datasets\n",
        "import matplotlib.pyplot as plt"
      ],
      "metadata": {
        "id": "9YnroczN6DlF"
      },
      "execution_count": null,
      "outputs": []
    },
    {
      "cell_type": "code",
      "source": [
        "iris = datasets.load_iris()\n",
        "features = iris['data']\n",
        "target   = iris['target']"
      ],
      "metadata": {
        "id": "G4kHZqYX6fAQ"
      },
      "execution_count": null,
      "outputs": []
    },
    {
      "cell_type": "code",
      "source": [
        "decisiontree = DecisionTreeClassifier(random_state=0, max_depth=None, min_samples_split=2, min_samples_leaf=1, min_weight_fraction_leaf=0, max_leaf_nodes=None\n",
        "                                      , min_impurity_decrease=0)"
      ],
      "metadata": {
        "id": "vPetvf8U7Zi2"
      },
      "execution_count": null,
      "outputs": []
    },
    {
      "cell_type": "code",
      "source": [
        "model = decisiontree.fit(features, target)"
      ],
      "metadata": {
        "id": "TOjV1_vA8Uf1"
      },
      "execution_count": null,
      "outputs": []
    },
    {
      "cell_type": "code",
      "source": [
        "observation = [[5,4,3,2]]\n",
        "model.predict(observation)\n",
        "model.predict_proba(observation)"
      ],
      "metadata": {
        "colab": {
          "base_uri": "https://localhost:8080/"
        },
        "id": "zRxcMeIw9L23",
        "outputId": "16b6ed9f-8e58-4444-9f22-2304ab677452"
      },
      "execution_count": null,
      "outputs": [
        {
          "output_type": "execute_result",
          "data": {
            "text/plain": [
              "array([[0., 1., 0.]])"
            ]
          },
          "metadata": {},
          "execution_count": 8
        }
      ]
    },
    {
      "cell_type": "code",
      "source": [
        "import pydotplus\n",
        "from sklearn import tree\n",
        "dot_data = tree.export_graphviz(decisiontree, out_file=None, feature_names=iris['feature_names'], class_names=iris['target_names'])\n",
        "from IPython.display import Image\n",
        "graph = pydotplus.graph_from_dot_data(dot_data)\n",
        "Image(graph.create_png())\n",
        "graph.write_png('iris.png')"
      ],
      "metadata": {
        "id": "jbHAN46L9kU-",
        "colab": {
          "base_uri": "https://localhost:8080/"
        },
        "outputId": "5949c9f4-a2ef-4ad3-f8d9-94c8e907e1fc"
      },
      "execution_count": null,
      "outputs": [
        {
          "output_type": "execute_result",
          "data": {
            "text/plain": [
              "True"
            ]
          },
          "metadata": {},
          "execution_count": 12
        }
      ]
    },
    {
      "cell_type": "code",
      "source": [],
      "metadata": {
        "id": "CVyghmgV8yf4"
      },
      "execution_count": null,
      "outputs": []
    }
  ]
}